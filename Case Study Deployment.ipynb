{
 "cells": [
  {
   "cell_type": "code",
   "execution_count": 2,
   "id": "082c6c90-9514-4309-8994-1524d83e91f8",
   "metadata": {},
   "outputs": [],
   "source": [
    "import gradio as gr \n",
    "import pickle"
   ]
  },
  {
   "cell_type": "code",
   "execution_count": 3,
   "id": "0cbabeac-d4cd-4d91-b17b-8214efc300d4",
   "metadata": {},
   "outputs": [],
   "source": [
    "with open('final_model_gd.pkl','rb') as file:\n",
    "    model = pickle.load(file)"
   ]
  },
  {
   "cell_type": "code",
   "execution_count": 4,
   "id": "2e01f01a-91ef-493a-800c-6105545a8a8d",
   "metadata": {},
   "outputs": [
    {
     "data": {
      "text/plain": [
       "array(['lead_time', 'market_segment_type', 'no_of_special_requests',\n",
       "       'avg_price_per_room', 'no_of_adults', 'no_of_weekend_nights',\n",
       "       'required_car_parking_space', 'no_of_week_nights', 'arrival_day',\n",
       "       'arrival_month', 'arrival_weekday'], dtype=object)"
      ]
     },
     "execution_count": 4,
     "metadata": {},
     "output_type": "execute_result"
    }
   ],
   "source": [
    "model.feature_names_in_"
   ]
  },
  {
   "cell_type": "code",
   "execution_count": 6,
   "id": "7a9268fb-0a55-4d3f-b191-5111f4f59f51",
   "metadata": {},
   "outputs": [
    {
     "name": "stderr",
     "output_type": "stream",
     "text": [
      "C:\\ProgramData\\anaconda3\\Lib\\site-packages\\sklearn\\base.py:439: UserWarning: X does not have valid feature names, but GradientBoostingClassifier was fitted with feature names\n",
      "  warnings.warn(\n"
     ]
    },
    {
     "data": {
      "text/plain": [
       "array([[0.71665781, 0.28334219]])"
      ]
     },
     "execution_count": 6,
     "metadata": {},
     "output_type": "execute_result"
    }
   ],
   "source": [
    "model.predict_proba([[20,1,0,150,4,2,1,0,4,5,2]])"
   ]
  },
  {
   "cell_type": "code",
   "execution_count": 11,
   "id": "13e0700a-e171-423c-b8a4-693437b60916",
   "metadata": {},
   "outputs": [],
   "source": [
    "def predictions(lt,mst,spcl,price,adult,wkend,park,wk,ar_d,ar_m,ar_w):\n",
    "    input_data = [[lt,mst,spcl,price,adult,wkend,park,wk,ar_d,ar_m,ar_w]]\n",
    "    pred = model.predict_proba(input_data)[:,1][0]\n",
    "\n",
    "    if pred>0.5:\n",
    "        return f'This booking is more likely to get canceled: Chances={round(pred*100,2)}%'\n",
    "    else:\n",
    "        return f'This booking is less likely to get canceled: Chances={round(pred*100,2)}%'"
   ]
  },
  {
   "cell_type": "code",
   "execution_count": 14,
   "id": "2110e422-17be-418a-9cf5-911585d422b2",
   "metadata": {},
   "outputs": [],
   "source": [
    "#predictions(10,1,1,150,2,2,0,1,4,5,3)"
   ]
  },
  {
   "cell_type": "code",
   "execution_count": 15,
   "id": "c84c5c01-133f-4bd1-bf9a-1e858edb343f",
   "metadata": {},
   "outputs": [],
   "source": [
    "iface = gr.Interface(fn=predictions,\n",
    "                     inputs=[gr.Number(label='How many prior days booking was made?'),\n",
    "                            gr.Dropdown([('Online',1),('Offline',0)],label='How booking was made?'),\n",
    "                            gr.Dropdown([0,1,2,3,4,5], label='How many special requests made?'),\n",
    "                            gr.Number(label='What is the price per room offered?'),\n",
    "                            gr.Number(label='How many adults per room?'),\n",
    "                            gr.Number(label='How many weekend nights in the stay?'),\n",
    "                            gr.Dropdown([('Yes',1),('No',0)],label='Does booking includes parking facility?'),\n",
    "                            gr.Number(label='How many week nights in the stay?'),\n",
    "                            gr.Slider(minimum=1,maximum=31,step=1,label='What is the Day of arrival?'),\n",
    "                            gr.Slider(minimum=1,maximum=12,step=1,label='What is the Month of arrival?'),\n",
    "                            gr.Dropdown([('MON',0),('TUE',1),('WED',2),('THU',3),('FRI',4),('SAT',5),('SUN',6)],\n",
    "                                        label='What is the WeekDay of arrival?')],\n",
    "                    outputs=gr.Textbox(label='Prediction'),\n",
    "                    title = 'INN Group of Hotels',\n",
    "                    description = 'This appliction will forecast the cancellation of booking.',\n",
    "                    allow_flagging='never')"
   ]
  },
  {
   "cell_type": "code",
   "execution_count": 16,
   "id": "c2d4eb0b-a7be-4cc5-9485-d417b0461bc7",
   "metadata": {},
   "outputs": [
    {
     "name": "stdout",
     "output_type": "stream",
     "text": [
      "Running on local URL:  http://127.0.0.1:7860\n",
      "\n",
      "To create a public link, set `share=True` in `launch()`.\n"
     ]
    },
    {
     "data": {
      "text/html": [
       "<div><iframe src=\"http://127.0.0.1:7860/\" width=\"100%\" height=\"500\" allow=\"autoplay; camera; microphone; clipboard-read; clipboard-write;\" frameborder=\"0\" allowfullscreen></iframe></div>"
      ],
      "text/plain": [
       "<IPython.core.display.HTML object>"
      ]
     },
     "metadata": {},
     "output_type": "display_data"
    },
    {
     "data": {
      "text/plain": []
     },
     "execution_count": 16,
     "metadata": {},
     "output_type": "execute_result"
    },
    {
     "name": "stderr",
     "output_type": "stream",
     "text": [
      "C:\\ProgramData\\anaconda3\\Lib\\site-packages\\sklearn\\base.py:439: UserWarning: X does not have valid feature names, but GradientBoostingClassifier was fitted with feature names\n",
      "  warnings.warn(\n",
      "Traceback (most recent call last):\n",
      "  File \"C:\\Users\\Eksimar\\AppData\\Roaming\\Python\\Python311\\site-packages\\gradio\\queueing.py\", line 536, in process_events\n",
      "    response = await route_utils.call_process_api(\n",
      "               ^^^^^^^^^^^^^^^^^^^^^^^^^^^^^^^^^^^\n",
      "  File \"C:\\Users\\Eksimar\\AppData\\Roaming\\Python\\Python311\\site-packages\\gradio\\route_utils.py\", line 321, in call_process_api\n",
      "    output = await app.get_blocks().process_api(\n",
      "             ^^^^^^^^^^^^^^^^^^^^^^^^^^^^^^^^^^^\n",
      "  File \"C:\\Users\\Eksimar\\AppData\\Roaming\\Python\\Python311\\site-packages\\gradio\\blocks.py\", line 1935, in process_api\n",
      "    result = await self.call_function(\n",
      "             ^^^^^^^^^^^^^^^^^^^^^^^^^\n",
      "  File \"C:\\Users\\Eksimar\\AppData\\Roaming\\Python\\Python311\\site-packages\\gradio\\blocks.py\", line 1520, in call_function\n",
      "    prediction = await anyio.to_thread.run_sync(  # type: ignore\n",
      "                 ^^^^^^^^^^^^^^^^^^^^^^^^^^^^^^^^^^^^^^^^^^^^^^^\n",
      "  File \"C:\\ProgramData\\anaconda3\\Lib\\site-packages\\anyio\\to_thread.py\", line 56, in run_sync\n",
      "    return await get_async_backend().run_sync_in_worker_thread(\n",
      "           ^^^^^^^^^^^^^^^^^^^^^^^^^^^^^^^^^^^^^^^^^^^^^^^^^^^^\n",
      "  File \"C:\\ProgramData\\anaconda3\\Lib\\site-packages\\anyio\\_backends\\_asyncio.py\", line 2134, in run_sync_in_worker_thread\n",
      "    return await future\n",
      "           ^^^^^^^^^^^^\n",
      "  File \"C:\\ProgramData\\anaconda3\\Lib\\site-packages\\anyio\\_backends\\_asyncio.py\", line 851, in run\n",
      "    result = context.run(func, *args)\n",
      "             ^^^^^^^^^^^^^^^^^^^^^^^^\n",
      "  File \"C:\\Users\\Eksimar\\AppData\\Roaming\\Python\\Python311\\site-packages\\gradio\\utils.py\", line 826, in wrapper\n",
      "    response = f(*args, **kwargs)\n",
      "               ^^^^^^^^^^^^^^^^^^\n",
      "  File \"C:\\Users\\Eksimar\\AppData\\Local\\Temp\\ipykernel_24380\\865084168.py\", line 3, in predictions\n",
      "    pred = model.predict_proba(input_data)[:,1][0]\n",
      "           ^^^^^^^^^^^^^^^^^^^^^^^^^^^^^^^\n",
      "  File \"C:\\ProgramData\\anaconda3\\Lib\\site-packages\\sklearn\\ensemble\\_gb.py\", line 1355, in predict_proba\n",
      "    raw_predictions = self.decision_function(X)\n",
      "                      ^^^^^^^^^^^^^^^^^^^^^^^^^\n",
      "  File \"C:\\ProgramData\\anaconda3\\Lib\\site-packages\\sklearn\\ensemble\\_gb.py\", line 1261, in decision_function\n",
      "    X = self._validate_data(\n",
      "        ^^^^^^^^^^^^^^^^^^^^\n",
      "  File \"C:\\ProgramData\\anaconda3\\Lib\\site-packages\\sklearn\\base.py\", line 565, in _validate_data\n",
      "    X = check_array(X, input_name=\"X\", **check_params)\n",
      "        ^^^^^^^^^^^^^^^^^^^^^^^^^^^^^^^^^^^^^^^^^^^^^^\n",
      "  File \"C:\\ProgramData\\anaconda3\\Lib\\site-packages\\sklearn\\utils\\validation.py\", line 921, in check_array\n",
      "    _assert_all_finite(\n",
      "  File \"C:\\ProgramData\\anaconda3\\Lib\\site-packages\\sklearn\\utils\\validation.py\", line 161, in _assert_all_finite\n",
      "    raise ValueError(msg_err)\n",
      "ValueError: Input X contains NaN.\n",
      "GradientBoostingClassifier does not accept missing values encoded as NaN natively. For supervised learning, you might want to consider sklearn.ensemble.HistGradientBoostingClassifier and Regressor which accept missing values encoded as NaNs natively. Alternatively, it is possible to preprocess the data, for instance by using an imputer transformer in a pipeline or drop samples with missing values. See https://scikit-learn.org/stable/modules/impute.html You can find a list of all estimators that handle NaN values at the following page: https://scikit-learn.org/stable/modules/impute.html#estimators-that-handle-nan-values\n",
      "C:\\ProgramData\\anaconda3\\Lib\\site-packages\\sklearn\\base.py:439: UserWarning: X does not have valid feature names, but GradientBoostingClassifier was fitted with feature names\n",
      "  warnings.warn(\n"
     ]
    }
   ],
   "source": [
    "iface.launch()"
   ]
  },
  {
   "cell_type": "code",
   "execution_count": null,
   "id": "acdece77-635d-447f-8a46-839c860aeb1c",
   "metadata": {},
   "outputs": [],
   "source": []
  },
  {
   "cell_type": "code",
   "execution_count": null,
   "id": "b7959729-4d44-4a1c-913e-fc23c8d7adcc",
   "metadata": {},
   "outputs": [],
   "source": []
  },
  {
   "cell_type": "code",
   "execution_count": null,
   "id": "a87f5739-2678-47a3-93b0-aad710fccee0",
   "metadata": {},
   "outputs": [],
   "source": []
  },
  {
   "cell_type": "code",
   "execution_count": null,
   "id": "f0e589c9-f386-4845-91b2-6e3a730ba11b",
   "metadata": {},
   "outputs": [],
   "source": []
  },
  {
   "cell_type": "code",
   "execution_count": null,
   "id": "e1ec29d8-6c1e-4f65-a778-9f4ee4df27b7",
   "metadata": {},
   "outputs": [],
   "source": []
  },
  {
   "cell_type": "code",
   "execution_count": null,
   "id": "da366fbe-4ac9-4aea-8a13-36a6d35dbb9e",
   "metadata": {},
   "outputs": [],
   "source": []
  },
  {
   "cell_type": "code",
   "execution_count": null,
   "id": "aa0dbc97-4c6e-46b4-be31-23620a0769a1",
   "metadata": {},
   "outputs": [],
   "source": []
  },
  {
   "cell_type": "code",
   "execution_count": null,
   "id": "40e59550-ac79-408b-8aa6-67a62e95cfd7",
   "metadata": {},
   "outputs": [],
   "source": []
  }
 ],
 "metadata": {
  "kernelspec": {
   "display_name": "Python 3 (ipykernel)",
   "language": "python",
   "name": "python3"
  },
  "language_info": {
   "codemirror_mode": {
    "name": "ipython",
    "version": 3
   },
   "file_extension": ".py",
   "mimetype": "text/x-python",
   "name": "python",
   "nbconvert_exporter": "python",
   "pygments_lexer": "ipython3",
   "version": "3.11.7"
  }
 },
 "nbformat": 4,
 "nbformat_minor": 5
}
